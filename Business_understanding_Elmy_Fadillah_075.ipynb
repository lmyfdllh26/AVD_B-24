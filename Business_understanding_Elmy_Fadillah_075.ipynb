{
  "nbformat": 4,
  "nbformat_minor": 0,
  "metadata": {
    "colab": {
      "provenance": []
    },
    "kernelspec": {
      "name": "python3",
      "display_name": "Python 3"
    },
    "language_info": {
      "name": "python"
    }
  },
  "cells": [
    {
      "cell_type": "markdown",
      "source": [
        "**judul:** Indonesian Food and Drink Nutrition Dataset"
      ],
      "metadata": {
        "id": "ckM3Z3VZ2LLp"
      }
    },
    {
      "cell_type": "markdown",
      "source": [
        "**STUDI KASUS**\n"
      ],
      "metadata": {
        "id": "u7BJwq-or5I2"
      }
    },
    {
      "cell_type": "markdown",
      "source": [
        "**Masalah yang Dihadapi:**\n",
        "\n",
        "Banyak makanan khas Indonesia yang memiliki kandungan kalori dan lemak yang tinggi.\n",
        "\n",
        "**Tujuan Studi Kasus:**\n",
        "\n",
        "Menganalisis makanan yang ada dalam dataset untuk menentukan dan mengetahui mana yang lebih bergizi dan mana yang bisa menyebabkan masalah kesehatan, sehingga bisa memberikan rekomendasi pola makan yang lebih sehat untuk masyarakat."
      ],
      "metadata": {
        "id": "PsBBYdYmuPCR"
      }
    },
    {
      "cell_type": "markdown",
      "source": [
        "**BUSINESS UNDERSTANDING**"
      ],
      "metadata": {
        "id": "X_HFyw3GzNrn"
      }
    },
    {
      "cell_type": "markdown",
      "source": [
        "**Business objective**\n",
        "\n",
        "Tujuan dari proyek ini adalah memberikan informasi dan pemahaman terhadap kandungan gizi makanan khas indonesia,sehingga bisa memberikan rekomendasi pola makan yang lebih baik serta dapat membantu perusahaan makanan dan minuman dalam menciptakan produk yang lebih sehat."
      ],
      "metadata": {
        "id": "cRYmLns60N0b"
      }
    },
    {
      "cell_type": "markdown",
      "source": [
        "**Assess situation**\n",
        "\n",
        "Situasi yang mendasari analisis ini adalah banyaknya makanan indonesia yang mengandung kalori dan lemak yang tinggi serta rendah serat yang mengakibatkan tingginya angka obesitas, diabetes, dan penyakit jantung di kalangan masyarakat Indonesia.Dengan menggunakan data ini, kita dapat memberikan wawasan yang lebih baik tentang pilihan makanan yang sehat, serta membantu mengedukasi masyarakat untuk membuat pilihan yang lebih sehat berdasarkan informasi gizi."
      ],
      "metadata": {
        "id": "cgGh3cf9z-wi"
      }
    },
    {
      "cell_type": "markdown",
      "source": [
        "**Data mining goals**\n",
        "\n",
        " Mengklasifikasikan makanan dan minuman berdasarkan kandungan gizinya, seperti kalori, lemak, atau protein. Hal ini akan membantu mengelompokkan makanan dalam kategori tertentu yang memudahkan konsumen dalam memilih makanan sehat."
      ],
      "metadata": {
        "id": "jJC7VNUDSCIc"
      }
    },
    {
      "cell_type": "markdown",
      "source": [
        "**Project plan**\n",
        "\n",
        " Proyek ini akan dimulai dengan tahap persiapan dan pemahaman dataset, diikuti dengan pembersihan data, transformasi, dan eksplorasi untuk memperoleh wawasan awal. Selanjutnya, model data mining akan diterapkan, seperti klasifikasi, klastering, asosiasi, dan regresi untuk memahami hubungan antar komponen gizi, serta memprediksi kalori berdasarkan data yang ada. Model yang dibangun akan dievaluasi menggunakan metrik seperti akurasi dan R-squared, dan hasil evaluasi akan digunakan untuk menyempurnakan model. Proyek ini juga mencakup penyusunan laporan akhir yang merangkum temuan, visualisasi, dan rekomendasi berdasarkan analisis data yang dilakukan, dengan tujuan memberikan wawasan yang berguna untuk konsumen, produsen makanan, dan ahli gizi."
      ],
      "metadata": {
        "id": "Vu3kSF-CXjuM"
      }
    }
  ]
}